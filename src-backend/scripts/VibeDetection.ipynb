{
 "cells": [
  {
   "cell_type": "code",
   "execution_count": 1,
   "id": "8bd87c1b-d56b-46c7-9d93-d39bdf27012d",
   "metadata": {},
   "outputs": [
    {
     "name": "stdout",
     "output_type": "stream",
     "text": [
      "All the Libraries are imported\n"
     ]
    }
   ],
   "source": [
    "from ollama_response import create_response\n",
    "from IPython.display import HTML, Markdown, display\n",
    "import warnings\n",
    "warnings.filterwarnings(\"ignore\")\n",
    "\n",
    "print(\"All the Libraries are imported\")"
   ]
  },
  {
   "cell_type": "code",
   "execution_count": 2,
   "id": "0b0315cd-5167-4d95-bc13-24ccf21cb64f",
   "metadata": {},
   "outputs": [
    {
     "name": "stdout",
     "output_type": "stream",
     "text": [
      "✅ State-aware 'vibe_stateful' tool defined.\n"
     ]
    }
   ],
   "source": [
    "def vibe_stateful(query) -> str: \n",
    "    \"\"\"Classifying the last_message based on session state as vibe\"\"\"\n",
    "    print(f\"--- Tool: vibe_stateful called ---\")\n",
    "    \n",
    "    print(\"🟢 Thinking...............\")\n",
    "    code_prompt = f\"\"\"\n",
    "    You are a vibe Detector. \n",
    "    Given Data(str) below. Classify its tone as either 'scientific' or 'creative'. \n",
    "    \n",
    "    Classification Instruction: \n",
    "    ---------------------------------\n",
    "    You are a vibe-detection agent. Given a user's messages, classify its tone as one of the following:\n",
    "    1. 'scientific' - The user is analytical, precise, logical or technical. They may ask for explanations, data, or structured reasoning.\n",
    "    2. 'creative' - The user is imaginative, metaphorical, poetic and artistic. They may be expressing abstract ideas, inventing concepts.\n",
    "    3. None - IF the user's message is greeting/farewell (example: hi, hallo, hey, bye, see you)\n",
    "    \n",
    "    Return ONLY one word: 'scientific' or 'creative'. \n",
    "    \n",
    "    \n",
    "    Examples:\n",
    "        - \"Can you explain how gradient descent works in machine learning?\" → scientific\n",
    "        - \"What if the stars were just neutrons in the brain of the universe?\" → creative\n",
    "        - \"How do LLMs store and recall information?\" → scientific\n",
    "        - \"Let's invent a theory where gravity is made of music.\" → creative \n",
    "    \n",
    "    ------------------------------------\n",
    "    Data: {query}\n",
    "    \"\"\"\n",
    "    \n",
    "    response = create_response(query, system_prompt=code_prompt)\n",
    "    result = Markdown(response.message.content)\n",
    "    return result\n",
    "\n",
    "print(\"✅ State-aware 'vibe_stateful' tool defined.\")"
   ]
  },
  {
   "cell_type": "code",
   "execution_count": 3,
   "id": "9e30b9e0-96b1-4bbc-a82c-8da3c2ce8516",
   "metadata": {},
   "outputs": [
    {
     "name": "stdout",
     "output_type": "stream",
     "text": [
      "--- Tool: vibe_stateful called ---\n",
      "🟢 Thinking...............\n"
     ]
    },
    {
     "data": {
      "text/markdown": [
       "scientific\n"
      ],
      "text/plain": [
       "<IPython.core.display.Markdown object>"
      ]
     },
     "execution_count": 3,
     "metadata": {},
     "output_type": "execute_result"
    }
   ],
   "source": [
    "vibe_stateful('what do u think of LLM?')"
   ]
  }
 ],
 "metadata": {
  "kernelspec": {
   "display_name": "MyENV_NEW",
   "language": "python",
   "name": "myenv_new"
  },
  "language_info": {
   "codemirror_mode": {
    "name": "ipython",
    "version": 3
   },
   "file_extension": ".py",
   "mimetype": "text/x-python",
   "name": "python",
   "nbconvert_exporter": "python",
   "pygments_lexer": "ipython3",
   "version": "3.11.5"
  }
 },
 "nbformat": 4,
 "nbformat_minor": 5
}
